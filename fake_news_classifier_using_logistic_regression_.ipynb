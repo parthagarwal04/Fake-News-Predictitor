{
  "nbformat": 4,
  "nbformat_minor": 0,
  "metadata": {
    "colab": {
      "provenance": [],
      "authorship_tag": "ABX9TyNdmzLwg7AcOTy0YLI4jOA6",
      "include_colab_link": true
    },
    "kernelspec": {
      "name": "python3",
      "display_name": "Python 3"
    },
    "language_info": {
      "name": "python"
    }
  },
  "cells": [
    {
      "cell_type": "markdown",
      "metadata": {
        "id": "view-in-github",
        "colab_type": "text"
      },
      "source": [
        "<a href=\"https://colab.research.google.com/github/parthagarwal04/Fake-News-Predictitor/blob/main/fake_news_classifier_using_logistic_regression_.ipynb\" target=\"_parent\"><img src=\"https://colab.research.google.com/assets/colab-badge.svg\" alt=\"Open In Colab\"/></a>"
      ]
    },
    {
      "cell_type": "markdown",
      "source": [
        "Link For the Dataset: https://www.kaggle.com/c/fake-news/data?select=train.csv"
      ],
      "metadata": {
        "id": "MyyHO-EMy0i9"
      }
    },
    {
      "cell_type": "markdown",
      "source": [
        "Importing all the Libraries"
      ],
      "metadata": {
        "id": "iPWV_Xph4Qh6"
      }
    },
    {
      "cell_type": "code",
      "source": [
        "import re\n",
        "import math\n",
        "import numpy as np\n",
        "import pandas as pd\n",
        "import matplotlib.pyplot as plt\n",
        "import seaborn as sns\n",
        "import nltk\n",
        "from nltk.corpus import stopwords\n",
        "from wordcloud import WordCloud, STOPWORDS\n",
        "from nltk.stem.porter import PorterStemmer\n",
        "from sklearn.feature_extraction.text import TfidfVectorizer\n",
        "from sklearn.model_selection import train_test_split\n",
        "from sklearn.linear_model import LogisticRegression\n",
        "from sklearn.metrics import accuracy_score"
      ],
      "metadata": {
        "id": "arcZb2aSy_BB"
      },
      "execution_count": 1,
      "outputs": []
    },
    {
      "cell_type": "markdown",
      "source": [
        "Loading Dataset"
      ],
      "metadata": {
        "id": "gSZgPtkf5R0W"
      }
    },
    {
      "cell_type": "code",
      "source": [
        "data= pd.read_csv('/content/train.csv.zip')"
      ],
      "metadata": {
        "id": "breTR1nd4eWy"
      },
      "execution_count": 14,
      "outputs": []
    },
    {
      "cell_type": "code",
      "source": [
        "data.shape\n"
      ],
      "metadata": {
        "colab": {
          "base_uri": "https://localhost:8080/"
        },
        "id": "PExSKPqG6-ZZ",
        "outputId": "09cc38c4-0fdc-4c67-8456-1ec09b16b725"
      },
      "execution_count": 16,
      "outputs": [
        {
          "output_type": "execute_result",
          "data": {
            "text/plain": [
              "(20800, 5)"
            ]
          },
          "metadata": {},
          "execution_count": 16
        }
      ]
    },
    {
      "cell_type": "markdown",
      "source": [
        "downloding stopwords to remove them from data for pre processing of data"
      ],
      "metadata": {
        "id": "psIaBpybFB25"
      }
    },
    {
      "cell_type": "code",
      "source": [
        "import nltk\n",
        "nltk.download('stopwords')"
      ],
      "metadata": {
        "colab": {
          "base_uri": "https://localhost:8080/"
        },
        "id": "xFyfIjhSE6tF",
        "outputId": "a5efc306-1a9d-4c07-e65c-5248bd72b2e7"
      },
      "execution_count": 32,
      "outputs": [
        {
          "output_type": "stream",
          "name": "stderr",
          "text": [
            "[nltk_data] Downloading package stopwords to /root/nltk_data...\n",
            "[nltk_data]   Package stopwords is already up-to-date!\n"
          ]
        },
        {
          "output_type": "execute_result",
          "data": {
            "text/plain": [
              "True"
            ]
          },
          "metadata": {},
          "execution_count": 32
        }
      ]
    },
    {
      "cell_type": "markdown",
      "source": [
        "printing first 25 news of data set"
      ],
      "metadata": {
        "id": "TdIdcO9O7ZB5"
      }
    },
    {
      "cell_type": "code",
      "source": [
        "data.head(25)"
      ],
      "metadata": {
        "colab": {
          "base_uri": "https://localhost:8080/",
          "height": 1000
        },
        "id": "Ew65rAuI7c8t",
        "outputId": "067cc67d-d9a6-436b-8b83-32ad155af3e5"
      },
      "execution_count": 21,
      "outputs": [
        {
          "output_type": "execute_result",
          "data": {
            "text/plain": [
              "    id                                              title  \\\n",
              "0    0  House Dem Aide: We Didn’t Even See Comey’s Let...   \n",
              "1    1  FLYNN: Hillary Clinton, Big Woman on Campus - ...   \n",
              "2    2                  Why the Truth Might Get You Fired   \n",
              "3    3  15 Civilians Killed In Single US Airstrike Hav...   \n",
              "4    4  Iranian woman jailed for fictional unpublished...   \n",
              "5    5  Jackie Mason: Hollywood Would Love Trump if He...   \n",
              "6    6  Life: Life Of Luxury: Elton John’s 6 Favorite ...   \n",
              "7    7  Benoît Hamon Wins French Socialist Party’s Pre...   \n",
              "8    8  Excerpts From a Draft Script for Donald Trump’...   \n",
              "9    9  A Back-Channel Plan for Ukraine and Russia, Co...   \n",
              "10  10  Obama’s Organizing for Action Partners with So...   \n",
              "11  11  BBC Comedy Sketch \"Real Housewives of ISIS\" Ca...   \n",
              "12  12  Russian Researchers Discover Secret Nazi Milit...   \n",
              "13  13  US Officials See No Link Between Trump and Russia   \n",
              "14  14  Re: Yes, There Are Paid Government Trolls On S...   \n",
              "15  15  In Major League Soccer, Argentines Find a Home...   \n",
              "16  16  Wells Fargo Chief Abruptly Steps Down - The Ne...   \n",
              "17  17  Anonymous Donor Pays $2.5 Million To Release E...   \n",
              "18  18                          FBI Closes In On Hillary!   \n",
              "19  19  Chuck Todd: ’BuzzFeed Did Donald Trump a Polit...   \n",
              "20  20  News: Hope For The GOP: A Nude Paul Ryan Has J...   \n",
              "21  21  Monica Lewinsky, Clinton Sex Scandal Set for ’...   \n",
              "22  22  Rob Reiner: Trump Is ’Mentally Unstable’ - Bre...   \n",
              "23  23  Massachusetts Cop’s Wife Busted for Pinning Fa...   \n",
              "24  24  Abortion Pill Orders Rise in 7 Latin American ...   \n",
              "\n",
              "                                  author  \\\n",
              "0                          Darrell Lucus   \n",
              "1                        Daniel J. Flynn   \n",
              "2                     Consortiumnews.com   \n",
              "3                        Jessica Purkiss   \n",
              "4                         Howard Portnoy   \n",
              "5                        Daniel Nussbaum   \n",
              "6                                          \n",
              "7                        Alissa J. Rubin   \n",
              "8                                          \n",
              "9           Megan Twohey and Scott Shane   \n",
              "10                           Aaron Klein   \n",
              "11                       Chris Tomlinson   \n",
              "12                         Amando Flavio   \n",
              "13                            Jason Ditz   \n",
              "14                          AnotherAnnie   \n",
              "15                         Jack Williams   \n",
              "16      Michael Corkery and Stacy Cowley   \n",
              "17                              Starkman   \n",
              "18                               The Doc   \n",
              "19                             Jeff Poor   \n",
              "20                                         \n",
              "21                         Jerome Hudson   \n",
              "22                               Pam Key   \n",
              "23                                         \n",
              "24  Donald G. McNeil Jr. and Pam Belluck   \n",
              "\n",
              "                                                 text  label  \\\n",
              "0   House Dem Aide: We Didn’t Even See Comey’s Let...      1   \n",
              "1   Ever get the feeling your life circles the rou...      0   \n",
              "2   Why the Truth Might Get You Fired October 29, ...      1   \n",
              "3   Videos 15 Civilians Killed In Single US Airstr...      1   \n",
              "4   Print \\nAn Iranian woman has been sentenced to...      1   \n",
              "5   In these trying times, Jackie Mason is the Voi...      0   \n",
              "6   Ever wonder how Britain’s most iconic pop pian...      1   \n",
              "7   PARIS  —   France chose an idealistic, traditi...      0   \n",
              "8   Donald J. Trump is scheduled to make a highly ...      0   \n",
              "9   A week before Michael T. Flynn resigned as nat...      0   \n",
              "10  Organizing for Action, the activist group that...      0   \n",
              "11  The BBC produced spoof on the “Real Housewives...      0   \n",
              "12  The mystery surrounding The Third Reich and Na...      1   \n",
              "13  Clinton Campaign Demands FBI Affirm Trump's Ru...      1   \n",
              "14  Yes, There Are Paid Government Trolls On Socia...      1   \n",
              "15  Guillermo Barros Schelotto was not the first A...      0   \n",
              "16  The scandal engulfing Wells Fargo toppled its ...      0   \n",
              "17  A Caddo Nation tribal leader has just been fre...      1   \n",
              "18  FBI Closes In On Hillary! Posted on Home » Hea...      1   \n",
              "19  Wednesday after   Donald Trump’s press confere...      0   \n",
              "20  Email \\nSince Donald Trump entered the electio...      1   \n",
              "21  Screenwriter Ryan Murphy, who has produced the...      0   \n",
              "22  Sunday on MSNBC’s “AM Joy,” actor and director...      0   \n",
              "23  Massachusetts Cop’s Wife Busted for Pinning Fa...      1   \n",
              "24  Orders for abortion pills by women in seven La...      0   \n",
              "\n",
              "                                              content  \n",
              "0   Darrell LucusHouse Dem Aide: We Didn’t Even Se...  \n",
              "1   Daniel J. FlynnFLYNN: Hillary Clinton, Big Wom...  \n",
              "2   Consortiumnews.comWhy the Truth Might Get You ...  \n",
              "3   Jessica Purkiss15 Civilians Killed In Single U...  \n",
              "4   Howard PortnoyIranian woman jailed for fiction...  \n",
              "5   Daniel NussbaumJackie Mason: Hollywood Would L...  \n",
              "6   Life: Life Of Luxury: Elton John’s 6 Favorite ...  \n",
              "7   Alissa J. RubinBenoît Hamon Wins French Social...  \n",
              "8   Excerpts From a Draft Script for Donald Trump’...  \n",
              "9   Megan Twohey and Scott ShaneA Back-Channel Pla...  \n",
              "10  Aaron KleinObama’s Organizing for Action Partn...  \n",
              "11  Chris TomlinsonBBC Comedy Sketch \"Real Housewi...  \n",
              "12  Amando FlavioRussian Researchers Discover Secr...  \n",
              "13  Jason DitzUS Officials See No Link Between Tru...  \n",
              "14  AnotherAnnieRe: Yes, There Are Paid Government...  \n",
              "15  Jack WilliamsIn Major League Soccer, Argentine...  \n",
              "16  Michael Corkery and Stacy CowleyWells Fargo Ch...  \n",
              "17  StarkmanAnonymous Donor Pays $2.5 Million To R...  \n",
              "18                   The DocFBI Closes In On Hillary!  \n",
              "19  Jeff PoorChuck Todd: ’BuzzFeed Did Donald Trum...  \n",
              "20  News: Hope For The GOP: A Nude Paul Ryan Has J...  \n",
              "21  Jerome HudsonMonica Lewinsky, Clinton Sex Scan...  \n",
              "22  Pam KeyRob Reiner: Trump Is ’Mentally Unstable...  \n",
              "23  Massachusetts Cop’s Wife Busted for Pinning Fa...  \n",
              "24  Donald G. McNeil Jr. and Pam BelluckAbortion P...  "
            ],
            "text/html": [
              "\n",
              "\n",
              "  <div id=\"df-0b001af1-4ff5-4dbd-a380-5182fc28e470\">\n",
              "    <div class=\"colab-df-container\">\n",
              "      <div>\n",
              "<style scoped>\n",
              "    .dataframe tbody tr th:only-of-type {\n",
              "        vertical-align: middle;\n",
              "    }\n",
              "\n",
              "    .dataframe tbody tr th {\n",
              "        vertical-align: top;\n",
              "    }\n",
              "\n",
              "    .dataframe thead th {\n",
              "        text-align: right;\n",
              "    }\n",
              "</style>\n",
              "<table border=\"1\" class=\"dataframe\">\n",
              "  <thead>\n",
              "    <tr style=\"text-align: right;\">\n",
              "      <th></th>\n",
              "      <th>id</th>\n",
              "      <th>title</th>\n",
              "      <th>author</th>\n",
              "      <th>text</th>\n",
              "      <th>label</th>\n",
              "      <th>content</th>\n",
              "    </tr>\n",
              "  </thead>\n",
              "  <tbody>\n",
              "    <tr>\n",
              "      <th>0</th>\n",
              "      <td>0</td>\n",
              "      <td>House Dem Aide: We Didn’t Even See Comey’s Let...</td>\n",
              "      <td>Darrell Lucus</td>\n",
              "      <td>House Dem Aide: We Didn’t Even See Comey’s Let...</td>\n",
              "      <td>1</td>\n",
              "      <td>Darrell LucusHouse Dem Aide: We Didn’t Even Se...</td>\n",
              "    </tr>\n",
              "    <tr>\n",
              "      <th>1</th>\n",
              "      <td>1</td>\n",
              "      <td>FLYNN: Hillary Clinton, Big Woman on Campus - ...</td>\n",
              "      <td>Daniel J. Flynn</td>\n",
              "      <td>Ever get the feeling your life circles the rou...</td>\n",
              "      <td>0</td>\n",
              "      <td>Daniel J. FlynnFLYNN: Hillary Clinton, Big Wom...</td>\n",
              "    </tr>\n",
              "    <tr>\n",
              "      <th>2</th>\n",
              "      <td>2</td>\n",
              "      <td>Why the Truth Might Get You Fired</td>\n",
              "      <td>Consortiumnews.com</td>\n",
              "      <td>Why the Truth Might Get You Fired October 29, ...</td>\n",
              "      <td>1</td>\n",
              "      <td>Consortiumnews.comWhy the Truth Might Get You ...</td>\n",
              "    </tr>\n",
              "    <tr>\n",
              "      <th>3</th>\n",
              "      <td>3</td>\n",
              "      <td>15 Civilians Killed In Single US Airstrike Hav...</td>\n",
              "      <td>Jessica Purkiss</td>\n",
              "      <td>Videos 15 Civilians Killed In Single US Airstr...</td>\n",
              "      <td>1</td>\n",
              "      <td>Jessica Purkiss15 Civilians Killed In Single U...</td>\n",
              "    </tr>\n",
              "    <tr>\n",
              "      <th>4</th>\n",
              "      <td>4</td>\n",
              "      <td>Iranian woman jailed for fictional unpublished...</td>\n",
              "      <td>Howard Portnoy</td>\n",
              "      <td>Print \\nAn Iranian woman has been sentenced to...</td>\n",
              "      <td>1</td>\n",
              "      <td>Howard PortnoyIranian woman jailed for fiction...</td>\n",
              "    </tr>\n",
              "    <tr>\n",
              "      <th>5</th>\n",
              "      <td>5</td>\n",
              "      <td>Jackie Mason: Hollywood Would Love Trump if He...</td>\n",
              "      <td>Daniel Nussbaum</td>\n",
              "      <td>In these trying times, Jackie Mason is the Voi...</td>\n",
              "      <td>0</td>\n",
              "      <td>Daniel NussbaumJackie Mason: Hollywood Would L...</td>\n",
              "    </tr>\n",
              "    <tr>\n",
              "      <th>6</th>\n",
              "      <td>6</td>\n",
              "      <td>Life: Life Of Luxury: Elton John’s 6 Favorite ...</td>\n",
              "      <td></td>\n",
              "      <td>Ever wonder how Britain’s most iconic pop pian...</td>\n",
              "      <td>1</td>\n",
              "      <td>Life: Life Of Luxury: Elton John’s 6 Favorite ...</td>\n",
              "    </tr>\n",
              "    <tr>\n",
              "      <th>7</th>\n",
              "      <td>7</td>\n",
              "      <td>Benoît Hamon Wins French Socialist Party’s Pre...</td>\n",
              "      <td>Alissa J. Rubin</td>\n",
              "      <td>PARIS  —   France chose an idealistic, traditi...</td>\n",
              "      <td>0</td>\n",
              "      <td>Alissa J. RubinBenoît Hamon Wins French Social...</td>\n",
              "    </tr>\n",
              "    <tr>\n",
              "      <th>8</th>\n",
              "      <td>8</td>\n",
              "      <td>Excerpts From a Draft Script for Donald Trump’...</td>\n",
              "      <td></td>\n",
              "      <td>Donald J. Trump is scheduled to make a highly ...</td>\n",
              "      <td>0</td>\n",
              "      <td>Excerpts From a Draft Script for Donald Trump’...</td>\n",
              "    </tr>\n",
              "    <tr>\n",
              "      <th>9</th>\n",
              "      <td>9</td>\n",
              "      <td>A Back-Channel Plan for Ukraine and Russia, Co...</td>\n",
              "      <td>Megan Twohey and Scott Shane</td>\n",
              "      <td>A week before Michael T. Flynn resigned as nat...</td>\n",
              "      <td>0</td>\n",
              "      <td>Megan Twohey and Scott ShaneA Back-Channel Pla...</td>\n",
              "    </tr>\n",
              "    <tr>\n",
              "      <th>10</th>\n",
              "      <td>10</td>\n",
              "      <td>Obama’s Organizing for Action Partners with So...</td>\n",
              "      <td>Aaron Klein</td>\n",
              "      <td>Organizing for Action, the activist group that...</td>\n",
              "      <td>0</td>\n",
              "      <td>Aaron KleinObama’s Organizing for Action Partn...</td>\n",
              "    </tr>\n",
              "    <tr>\n",
              "      <th>11</th>\n",
              "      <td>11</td>\n",
              "      <td>BBC Comedy Sketch \"Real Housewives of ISIS\" Ca...</td>\n",
              "      <td>Chris Tomlinson</td>\n",
              "      <td>The BBC produced spoof on the “Real Housewives...</td>\n",
              "      <td>0</td>\n",
              "      <td>Chris TomlinsonBBC Comedy Sketch \"Real Housewi...</td>\n",
              "    </tr>\n",
              "    <tr>\n",
              "      <th>12</th>\n",
              "      <td>12</td>\n",
              "      <td>Russian Researchers Discover Secret Nazi Milit...</td>\n",
              "      <td>Amando Flavio</td>\n",
              "      <td>The mystery surrounding The Third Reich and Na...</td>\n",
              "      <td>1</td>\n",
              "      <td>Amando FlavioRussian Researchers Discover Secr...</td>\n",
              "    </tr>\n",
              "    <tr>\n",
              "      <th>13</th>\n",
              "      <td>13</td>\n",
              "      <td>US Officials See No Link Between Trump and Russia</td>\n",
              "      <td>Jason Ditz</td>\n",
              "      <td>Clinton Campaign Demands FBI Affirm Trump's Ru...</td>\n",
              "      <td>1</td>\n",
              "      <td>Jason DitzUS Officials See No Link Between Tru...</td>\n",
              "    </tr>\n",
              "    <tr>\n",
              "      <th>14</th>\n",
              "      <td>14</td>\n",
              "      <td>Re: Yes, There Are Paid Government Trolls On S...</td>\n",
              "      <td>AnotherAnnie</td>\n",
              "      <td>Yes, There Are Paid Government Trolls On Socia...</td>\n",
              "      <td>1</td>\n",
              "      <td>AnotherAnnieRe: Yes, There Are Paid Government...</td>\n",
              "    </tr>\n",
              "    <tr>\n",
              "      <th>15</th>\n",
              "      <td>15</td>\n",
              "      <td>In Major League Soccer, Argentines Find a Home...</td>\n",
              "      <td>Jack Williams</td>\n",
              "      <td>Guillermo Barros Schelotto was not the first A...</td>\n",
              "      <td>0</td>\n",
              "      <td>Jack WilliamsIn Major League Soccer, Argentine...</td>\n",
              "    </tr>\n",
              "    <tr>\n",
              "      <th>16</th>\n",
              "      <td>16</td>\n",
              "      <td>Wells Fargo Chief Abruptly Steps Down - The Ne...</td>\n",
              "      <td>Michael Corkery and Stacy Cowley</td>\n",
              "      <td>The scandal engulfing Wells Fargo toppled its ...</td>\n",
              "      <td>0</td>\n",
              "      <td>Michael Corkery and Stacy CowleyWells Fargo Ch...</td>\n",
              "    </tr>\n",
              "    <tr>\n",
              "      <th>17</th>\n",
              "      <td>17</td>\n",
              "      <td>Anonymous Donor Pays $2.5 Million To Release E...</td>\n",
              "      <td>Starkman</td>\n",
              "      <td>A Caddo Nation tribal leader has just been fre...</td>\n",
              "      <td>1</td>\n",
              "      <td>StarkmanAnonymous Donor Pays $2.5 Million To R...</td>\n",
              "    </tr>\n",
              "    <tr>\n",
              "      <th>18</th>\n",
              "      <td>18</td>\n",
              "      <td>FBI Closes In On Hillary!</td>\n",
              "      <td>The Doc</td>\n",
              "      <td>FBI Closes In On Hillary! Posted on Home » Hea...</td>\n",
              "      <td>1</td>\n",
              "      <td>The DocFBI Closes In On Hillary!</td>\n",
              "    </tr>\n",
              "    <tr>\n",
              "      <th>19</th>\n",
              "      <td>19</td>\n",
              "      <td>Chuck Todd: ’BuzzFeed Did Donald Trump a Polit...</td>\n",
              "      <td>Jeff Poor</td>\n",
              "      <td>Wednesday after   Donald Trump’s press confere...</td>\n",
              "      <td>0</td>\n",
              "      <td>Jeff PoorChuck Todd: ’BuzzFeed Did Donald Trum...</td>\n",
              "    </tr>\n",
              "    <tr>\n",
              "      <th>20</th>\n",
              "      <td>20</td>\n",
              "      <td>News: Hope For The GOP: A Nude Paul Ryan Has J...</td>\n",
              "      <td></td>\n",
              "      <td>Email \\nSince Donald Trump entered the electio...</td>\n",
              "      <td>1</td>\n",
              "      <td>News: Hope For The GOP: A Nude Paul Ryan Has J...</td>\n",
              "    </tr>\n",
              "    <tr>\n",
              "      <th>21</th>\n",
              "      <td>21</td>\n",
              "      <td>Monica Lewinsky, Clinton Sex Scandal Set for ’...</td>\n",
              "      <td>Jerome Hudson</td>\n",
              "      <td>Screenwriter Ryan Murphy, who has produced the...</td>\n",
              "      <td>0</td>\n",
              "      <td>Jerome HudsonMonica Lewinsky, Clinton Sex Scan...</td>\n",
              "    </tr>\n",
              "    <tr>\n",
              "      <th>22</th>\n",
              "      <td>22</td>\n",
              "      <td>Rob Reiner: Trump Is ’Mentally Unstable’ - Bre...</td>\n",
              "      <td>Pam Key</td>\n",
              "      <td>Sunday on MSNBC’s “AM Joy,” actor and director...</td>\n",
              "      <td>0</td>\n",
              "      <td>Pam KeyRob Reiner: Trump Is ’Mentally Unstable...</td>\n",
              "    </tr>\n",
              "    <tr>\n",
              "      <th>23</th>\n",
              "      <td>23</td>\n",
              "      <td>Massachusetts Cop’s Wife Busted for Pinning Fa...</td>\n",
              "      <td></td>\n",
              "      <td>Massachusetts Cop’s Wife Busted for Pinning Fa...</td>\n",
              "      <td>1</td>\n",
              "      <td>Massachusetts Cop’s Wife Busted for Pinning Fa...</td>\n",
              "    </tr>\n",
              "    <tr>\n",
              "      <th>24</th>\n",
              "      <td>24</td>\n",
              "      <td>Abortion Pill Orders Rise in 7 Latin American ...</td>\n",
              "      <td>Donald G. McNeil Jr. and Pam Belluck</td>\n",
              "      <td>Orders for abortion pills by women in seven La...</td>\n",
              "      <td>0</td>\n",
              "      <td>Donald G. McNeil Jr. and Pam BelluckAbortion P...</td>\n",
              "    </tr>\n",
              "  </tbody>\n",
              "</table>\n",
              "</div>\n",
              "      <button class=\"colab-df-convert\" onclick=\"convertToInteractive('df-0b001af1-4ff5-4dbd-a380-5182fc28e470')\"\n",
              "              title=\"Convert this dataframe to an interactive table.\"\n",
              "              style=\"display:none;\">\n",
              "\n",
              "  <svg xmlns=\"http://www.w3.org/2000/svg\" height=\"24px\"viewBox=\"0 0 24 24\"\n",
              "       width=\"24px\">\n",
              "    <path d=\"M0 0h24v24H0V0z\" fill=\"none\"/>\n",
              "    <path d=\"M18.56 5.44l.94 2.06.94-2.06 2.06-.94-2.06-.94-.94-2.06-.94 2.06-2.06.94zm-11 1L8.5 8.5l.94-2.06 2.06-.94-2.06-.94L8.5 2.5l-.94 2.06-2.06.94zm10 10l.94 2.06.94-2.06 2.06-.94-2.06-.94-.94-2.06-.94 2.06-2.06.94z\"/><path d=\"M17.41 7.96l-1.37-1.37c-.4-.4-.92-.59-1.43-.59-.52 0-1.04.2-1.43.59L10.3 9.45l-7.72 7.72c-.78.78-.78 2.05 0 2.83L4 21.41c.39.39.9.59 1.41.59.51 0 1.02-.2 1.41-.59l7.78-7.78 2.81-2.81c.8-.78.8-2.07 0-2.86zM5.41 20L4 18.59l7.72-7.72 1.47 1.35L5.41 20z\"/>\n",
              "  </svg>\n",
              "      </button>\n",
              "\n",
              "\n",
              "\n",
              "    <div id=\"df-c107d75a-4ffa-4df2-a356-e06989f24798\">\n",
              "      <button class=\"colab-df-quickchart\" onclick=\"quickchart('df-c107d75a-4ffa-4df2-a356-e06989f24798')\"\n",
              "              title=\"Suggest charts.\"\n",
              "              style=\"display:none;\">\n",
              "\n",
              "<svg xmlns=\"http://www.w3.org/2000/svg\" height=\"24px\"viewBox=\"0 0 24 24\"\n",
              "     width=\"24px\">\n",
              "    <g>\n",
              "        <path d=\"M19 3H5c-1.1 0-2 .9-2 2v14c0 1.1.9 2 2 2h14c1.1 0 2-.9 2-2V5c0-1.1-.9-2-2-2zM9 17H7v-7h2v7zm4 0h-2V7h2v10zm4 0h-2v-4h2v4z\"/>\n",
              "    </g>\n",
              "</svg>\n",
              "      </button>\n",
              "    </div>\n",
              "\n",
              "<style>\n",
              "  .colab-df-quickchart {\n",
              "    background-color: #E8F0FE;\n",
              "    border: none;\n",
              "    border-radius: 50%;\n",
              "    cursor: pointer;\n",
              "    display: none;\n",
              "    fill: #1967D2;\n",
              "    height: 32px;\n",
              "    padding: 0 0 0 0;\n",
              "    width: 32px;\n",
              "  }\n",
              "\n",
              "  .colab-df-quickchart:hover {\n",
              "    background-color: #E2EBFA;\n",
              "    box-shadow: 0px 1px 2px rgba(60, 64, 67, 0.3), 0px 1px 3px 1px rgba(60, 64, 67, 0.15);\n",
              "    fill: #174EA6;\n",
              "  }\n",
              "\n",
              "  [theme=dark] .colab-df-quickchart {\n",
              "    background-color: #3B4455;\n",
              "    fill: #D2E3FC;\n",
              "  }\n",
              "\n",
              "  [theme=dark] .colab-df-quickchart:hover {\n",
              "    background-color: #434B5C;\n",
              "    box-shadow: 0px 1px 3px 1px rgba(0, 0, 0, 0.15);\n",
              "    filter: drop-shadow(0px 1px 2px rgba(0, 0, 0, 0.3));\n",
              "    fill: #FFFFFF;\n",
              "  }\n",
              "</style>\n",
              "\n",
              "    <script>\n",
              "      async function quickchart(key) {\n",
              "        const containerElement = document.querySelector('#' + key);\n",
              "        const charts = await google.colab.kernel.invokeFunction(\n",
              "            'suggestCharts', [key], {});\n",
              "      }\n",
              "    </script>\n",
              "\n",
              "      <script>\n",
              "\n",
              "function displayQuickchartButton(domScope) {\n",
              "  let quickchartButtonEl =\n",
              "    domScope.querySelector('#df-c107d75a-4ffa-4df2-a356-e06989f24798 button.colab-df-quickchart');\n",
              "  quickchartButtonEl.style.display =\n",
              "    google.colab.kernel.accessAllowed ? 'block' : 'none';\n",
              "}\n",
              "\n",
              "        displayQuickchartButton(document);\n",
              "      </script>\n",
              "      <style>\n",
              "    .colab-df-container {\n",
              "      display:flex;\n",
              "      flex-wrap:wrap;\n",
              "      gap: 12px;\n",
              "    }\n",
              "\n",
              "    .colab-df-convert {\n",
              "      background-color: #E8F0FE;\n",
              "      border: none;\n",
              "      border-radius: 50%;\n",
              "      cursor: pointer;\n",
              "      display: none;\n",
              "      fill: #1967D2;\n",
              "      height: 32px;\n",
              "      padding: 0 0 0 0;\n",
              "      width: 32px;\n",
              "    }\n",
              "\n",
              "    .colab-df-convert:hover {\n",
              "      background-color: #E2EBFA;\n",
              "      box-shadow: 0px 1px 2px rgba(60, 64, 67, 0.3), 0px 1px 3px 1px rgba(60, 64, 67, 0.15);\n",
              "      fill: #174EA6;\n",
              "    }\n",
              "\n",
              "    [theme=dark] .colab-df-convert {\n",
              "      background-color: #3B4455;\n",
              "      fill: #D2E3FC;\n",
              "    }\n",
              "\n",
              "    [theme=dark] .colab-df-convert:hover {\n",
              "      background-color: #434B5C;\n",
              "      box-shadow: 0px 1px 3px 1px rgba(0, 0, 0, 0.15);\n",
              "      filter: drop-shadow(0px 1px 2px rgba(0, 0, 0, 0.3));\n",
              "      fill: #FFFFFF;\n",
              "    }\n",
              "  </style>\n",
              "\n",
              "      <script>\n",
              "        const buttonEl =\n",
              "          document.querySelector('#df-0b001af1-4ff5-4dbd-a380-5182fc28e470 button.colab-df-convert');\n",
              "        buttonEl.style.display =\n",
              "          google.colab.kernel.accessAllowed ? 'block' : 'none';\n",
              "\n",
              "        async function convertToInteractive(key) {\n",
              "          const element = document.querySelector('#df-0b001af1-4ff5-4dbd-a380-5182fc28e470');\n",
              "          const dataTable =\n",
              "            await google.colab.kernel.invokeFunction('convertToInteractive',\n",
              "                                                     [key], {});\n",
              "          if (!dataTable) return;\n",
              "\n",
              "          const docLinkHtml = 'Like what you see? Visit the ' +\n",
              "            '<a target=\"_blank\" href=https://colab.research.google.com/notebooks/data_table.ipynb>data table notebook</a>'\n",
              "            + ' to learn more about interactive tables.';\n",
              "          element.innerHTML = '';\n",
              "          dataTable['output_type'] = 'display_data';\n",
              "          await google.colab.output.renderOutput(dataTable, element);\n",
              "          const docLink = document.createElement('div');\n",
              "          docLink.innerHTML = docLinkHtml;\n",
              "          element.appendChild(docLink);\n",
              "        }\n",
              "      </script>\n",
              "    </div>\n",
              "  </div>\n"
            ]
          },
          "metadata": {},
          "execution_count": 21
        }
      ]
    },
    {
      "cell_type": "markdown",
      "source": [
        "# counting the number values in the dataset where there is no value in title\n"
      ],
      "metadata": {
        "id": "GYBnLhxm8VO4"
      }
    },
    {
      "cell_type": "code",
      "source": [
        "data.isnull().sum()"
      ],
      "metadata": {
        "colab": {
          "base_uri": "https://localhost:8080/"
        },
        "id": "abr6pMM48e_X",
        "outputId": "4e93beb3-907b-43db-e8ed-14c7a39fe631"
      },
      "execution_count": 18,
      "outputs": [
        {
          "output_type": "execute_result",
          "data": {
            "text/plain": [
              "id           0\n",
              "title      558\n",
              "author    1957\n",
              "text        39\n",
              "label        0\n",
              "dtype: int64"
            ]
          },
          "metadata": {},
          "execution_count": 18
        }
      ]
    },
    {
      "cell_type": "markdown",
      "source": [
        "Now we will add empty string whereever the data is null\n"
      ],
      "metadata": {
        "id": "UlVccj6q8h0n"
      }
    },
    {
      "cell_type": "code",
      "source": [
        "data = data.fillna('')"
      ],
      "metadata": {
        "id": "uyATtXph9gg4"
      },
      "execution_count": 19,
      "outputs": []
    },
    {
      "cell_type": "markdown",
      "source": [
        "Merging the author field with the news title field in field called 'content'."
      ],
      "metadata": {
        "id": "GKznfdsS9qS9"
      }
    },
    {
      "cell_type": "code",
      "source": [
        "data['content'] = data['author']+''+data['title']"
      ],
      "metadata": {
        "id": "MBwVgY6Z_PvD"
      },
      "execution_count": 20,
      "outputs": []
    },
    {
      "cell_type": "code",
      "source": [
        "# checking if they were combined succesfully by printing first\n",
        "print(data['content'])"
      ],
      "metadata": {
        "colab": {
          "base_uri": "https://localhost:8080/"
        },
        "id": "zIiErP2BBza8",
        "outputId": "57b87a74-5dd1-47b7-9d91-64e454af313d"
      },
      "execution_count": 27,
      "outputs": [
        {
          "output_type": "stream",
          "name": "stdout",
          "text": [
            "0        Darrell LucusHouse Dem Aide: We Didn’t Even Se...\n",
            "1        Daniel J. FlynnFLYNN: Hillary Clinton, Big Wom...\n",
            "2        Consortiumnews.comWhy the Truth Might Get You ...\n",
            "3        Jessica Purkiss15 Civilians Killed In Single U...\n",
            "4        Howard PortnoyIranian woman jailed for fiction...\n",
            "                               ...                        \n",
            "20795    Jerome HudsonRapper T.I.: Trump a ’Poster Chil...\n",
            "20796    Benjamin HoffmanN.F.L. Playoffs: Schedule, Mat...\n",
            "20797    Michael J. de la Merced and Rachel AbramsMacy’...\n",
            "20798    Alex AnsaryNATO, Russia To Hold Parallel Exerc...\n",
            "20799               David SwansonWhat Keeps the F-35 Alive\n",
            "Name: content, Length: 20800, dtype: object\n"
          ]
        }
      ]
    },
    {
      "cell_type": "code",
      "source": [
        "#separating the data and label for model training\n",
        "X = data.drop(columns='label', axis=1)\n",
        "Y = data['label']\n",
        "print(X)\n",
        "print(Y)"
      ],
      "metadata": {
        "colab": {
          "base_uri": "https://localhost:8080/"
        },
        "id": "ulAffUfdBfFq",
        "outputId": "13210694-9bf7-4ab6-d3bb-7c51c03375b7"
      },
      "execution_count": 29,
      "outputs": [
        {
          "output_type": "stream",
          "name": "stdout",
          "text": [
            "          id                                              title  \\\n",
            "0          0  House Dem Aide: We Didn’t Even See Comey’s Let...   \n",
            "1          1  FLYNN: Hillary Clinton, Big Woman on Campus - ...   \n",
            "2          2                  Why the Truth Might Get You Fired   \n",
            "3          3  15 Civilians Killed In Single US Airstrike Hav...   \n",
            "4          4  Iranian woman jailed for fictional unpublished...   \n",
            "...      ...                                                ...   \n",
            "20795  20795  Rapper T.I.: Trump a ’Poster Child For White S...   \n",
            "20796  20796  N.F.L. Playoffs: Schedule, Matchups and Odds -...   \n",
            "20797  20797  Macy’s Is Said to Receive Takeover Approach by...   \n",
            "20798  20798  NATO, Russia To Hold Parallel Exercises In Bal...   \n",
            "20799  20799                          What Keeps the F-35 Alive   \n",
            "\n",
            "                                          author  \\\n",
            "0                                  Darrell Lucus   \n",
            "1                                Daniel J. Flynn   \n",
            "2                             Consortiumnews.com   \n",
            "3                                Jessica Purkiss   \n",
            "4                                 Howard Portnoy   \n",
            "...                                          ...   \n",
            "20795                              Jerome Hudson   \n",
            "20796                           Benjamin Hoffman   \n",
            "20797  Michael J. de la Merced and Rachel Abrams   \n",
            "20798                                Alex Ansary   \n",
            "20799                              David Swanson   \n",
            "\n",
            "                                                    text  \\\n",
            "0      House Dem Aide: We Didn’t Even See Comey’s Let...   \n",
            "1      Ever get the feeling your life circles the rou...   \n",
            "2      Why the Truth Might Get You Fired October 29, ...   \n",
            "3      Videos 15 Civilians Killed In Single US Airstr...   \n",
            "4      Print \\nAn Iranian woman has been sentenced to...   \n",
            "...                                                  ...   \n",
            "20795  Rapper T. I. unloaded on black celebrities who...   \n",
            "20796  When the Green Bay Packers lost to the Washing...   \n",
            "20797  The Macy’s of today grew from the union of sev...   \n",
            "20798  NATO, Russia To Hold Parallel Exercises In Bal...   \n",
            "20799    David Swanson is an author, activist, journa...   \n",
            "\n",
            "                                                 content  \n",
            "0      Darrell LucusHouse Dem Aide: We Didn’t Even Se...  \n",
            "1      Daniel J. FlynnFLYNN: Hillary Clinton, Big Wom...  \n",
            "2      Consortiumnews.comWhy the Truth Might Get You ...  \n",
            "3      Jessica Purkiss15 Civilians Killed In Single U...  \n",
            "4      Howard PortnoyIranian woman jailed for fiction...  \n",
            "...                                                  ...  \n",
            "20795  Jerome HudsonRapper T.I.: Trump a ’Poster Chil...  \n",
            "20796  Benjamin HoffmanN.F.L. Playoffs: Schedule, Mat...  \n",
            "20797  Michael J. de la Merced and Rachel AbramsMacy’...  \n",
            "20798  Alex AnsaryNATO, Russia To Hold Parallel Exerc...  \n",
            "20799             David SwansonWhat Keeps the F-35 Alive  \n",
            "\n",
            "[20800 rows x 5 columns]\n",
            "0        1\n",
            "1        0\n",
            "2        1\n",
            "3        1\n",
            "4        1\n",
            "        ..\n",
            "20795    0\n",
            "20796    0\n",
            "20797    0\n",
            "20798    1\n",
            "20799    1\n",
            "Name: label, Length: 20800, dtype: int64\n"
          ]
        }
      ]
    },
    {
      "cell_type": "markdown",
      "source": [
        "We create stopwords to clean the text"
      ],
      "metadata": {
        "id": "2XLTyz02D-og"
      }
    },
    {
      "cell_type": "code",
      "source": [
        "port_stem = PorterStemmer()\n",
        "def stemming(content):\n",
        "    cleaned_content = re.sub('[^a-zA-Z]', ' ', content).lower()\n",
        "    words = cleaned_content.split()\n",
        "    stemmer = PorterStemmer()\n",
        "    stemmed_words = [stemmer.stem(word) for word in words if word not in stopwords.words('english')]\n",
        "    stemmed_content = ' '.join(stemmed_words)\n",
        "    return stemmed_content\n",
        ""
      ],
      "metadata": {
        "id": "Bm2IZ-WUDOaz"
      },
      "execution_count": 42,
      "outputs": []
    },
    {
      "cell_type": "markdown",
      "source": [
        "stemming the data now"
      ],
      "metadata": {
        "id": "p3dJRoQiFRT-"
      }
    },
    {
      "cell_type": "code",
      "source": [
        "data['content'] = data['content'].apply(stemming)"
      ],
      "metadata": {
        "id": "9v-hxforFQU7"
      },
      "execution_count": 43,
      "outputs": []
    },
    {
      "cell_type": "markdown",
      "source": [
        "checking if all words are stemmed"
      ],
      "metadata": {
        "id": "j_v6KsGHF0MA"
      }
    },
    {
      "cell_type": "code",
      "source": [
        "print(data['content'])"
      ],
      "metadata": {
        "colab": {
          "base_uri": "https://localhost:8080/"
        },
        "id": "2v0Ub-_NFtKz",
        "outputId": "060ad19c-4296-48f4-f444-c7837d04892d"
      },
      "execution_count": 44,
      "outputs": [
        {
          "output_type": "stream",
          "name": "stdout",
          "text": [
            "0        darrel lucush dem aid even see comey letter ja...\n",
            "1        daniel j flynnflynn hillari clinton big woman ...\n",
            "2                consortiumnew comwhi truth might get fire\n",
            "3        jessica purkiss civilian kill singl us airstri...\n",
            "4        howard portnoyiranian woman jail fiction unpub...\n",
            "                               ...                        \n",
            "20795    jerom hudsonrapp trump poster child white supr...\n",
            "20796    benjamin hoffmann f l playoff schedul matchup ...\n",
            "20797    michael j de la merc rachel abramsmaci said re...\n",
            "20798    alex ansarynato russia hold parallel exerci ba...\n",
            "20799                        david swansonwhat keep f aliv\n",
            "Name: content, Length: 20800, dtype: object\n"
          ]
        }
      ]
    },
    {
      "cell_type": "code",
      "source": [
        "#separating the data and label\n",
        "content = data['content'].values\n",
        "label = data['label'].values\n",
        "print(content)\n",
        "print(label)"
      ],
      "metadata": {
        "colab": {
          "base_uri": "https://localhost:8080/"
        },
        "id": "OxL2XgJIF7th",
        "outputId": "67d8f04a-832a-493c-9aaf-5ee6c4c66b7b"
      },
      "execution_count": 60,
      "outputs": [
        {
          "output_type": "stream",
          "name": "stdout",
          "text": [
            "['darrel lucush dem aid even see comey letter jason chaffetz tweet'\n",
            " 'daniel j flynnflynn hillari clinton big woman campu breitbart'\n",
            " 'consortiumnew comwhi truth might get fire' ...\n",
            " 'michael j de la merc rachel abramsmaci said receiv takeov approach hudson bay new york time'\n",
            " 'alex ansarynato russia hold parallel exerci balkan'\n",
            " 'david swansonwhat keep f aliv']\n",
            "[1 0 1 ... 0 1 1]\n"
          ]
        }
      ]
    },
    {
      "cell_type": "markdown",
      "source": [
        "Now We will convert Text data to Numberical data"
      ],
      "metadata": {
        "id": "eOUL1kXSNCxu"
      }
    },
    {
      "cell_type": "code",
      "source": [
        "vectorizer = TfidfVectorizer()\n",
        "vectorizer.fit(content)\n",
        "\n",
        "content = vectorizer.transform(content)"
      ],
      "metadata": {
        "id": "UUH4nijSNGhD"
      },
      "execution_count": 61,
      "outputs": []
    },
    {
      "cell_type": "code",
      "source": [
        "# now printing 'content' matrix where each column represents a paticular word in the vocaboulary and each row represents a news article\n",
        "print (content)"
      ],
      "metadata": {
        "colab": {
          "base_uri": "https://localhost:8080/"
        },
        "id": "rRriyXpANipL",
        "outputId": "b955f914-6428-4090-c058-72ba891f6009"
      },
      "execution_count": 62,
      "outputs": [
        {
          "output_type": "stream",
          "name": "stdout",
          "text": [
            "  (0, 26171)\t0.28088379401596425\n",
            "  (0, 22568)\t0.2552336018069161\n",
            "  (0, 14920)\t0.43006226759639316\n",
            "  (0, 14460)\t0.29177259684200296\n",
            "  (0, 12695)\t0.24619727512767195\n",
            "  (0, 7961)\t0.23133661742488731\n",
            "  (0, 6233)\t0.2839932825877813\n",
            "  (0, 5930)\t0.35488202138141456\n",
            "  (0, 4975)\t0.2472595823572816\n",
            "  (0, 4187)\t0.3625320323150658\n",
            "  (0, 572)\t0.2694167078545385\n",
            "  (1, 27744)\t0.37204408227449065\n",
            "  (1, 11235)\t0.2434639969074374\n",
            "  (1, 8704)\t0.5300315426405939\n",
            "  (1, 5877)\t0.3206218375341294\n",
            "  (1, 4739)\t0.23523739119536424\n",
            "  (1, 3838)\t0.44601381123255807\n",
            "  (1, 3260)\t0.18800278047529806\n",
            "  (1, 2602)\t0.35911932371235855\n",
            "  (2, 26066)\t0.3665032495181434\n",
            "  (2, 16256)\t0.43295215406038445\n",
            "  (2, 9384)\t0.30743020569262086\n",
            "  (2, 8499)\t0.3411947414020896\n",
            "  (2, 5204)\t0.40440534260277944\n",
            "  (2, 5089)\t0.5511414848555652\n",
            "  :\t:\n",
            "  (20797, 25609)\t0.08234347981192172\n",
            "  (20797, 25155)\t0.3125002447493035\n",
            "  (20797, 21934)\t0.2494515865666979\n",
            "  (20797, 20637)\t0.2734270447609076\n",
            "  (20797, 20353)\t0.25042469546773877\n",
            "  (20797, 17396)\t0.08104362479383843\n",
            "  (20797, 16211)\t0.17875228080871305\n",
            "  (20797, 16114)\t0.3242703661541431\n",
            "  (20797, 14015)\t0.22800931704455404\n",
            "  (20797, 11613)\t0.29796600751883373\n",
            "  (20797, 6048)\t0.21289625603896975\n",
            "  (20797, 2240)\t0.3363554202191793\n",
            "  (20797, 1236)\t0.3077504076403579\n",
            "  (20797, 72)\t0.3889641374897982\n",
            "  (20798, 21786)\t0.2284042880065583\n",
            "  (20798, 18637)\t0.43981843518920394\n",
            "  (20798, 11355)\t0.3219420705942853\n",
            "  (20798, 8032)\t0.40266358130888547\n",
            "  (20798, 1905)\t0.43981843518920394\n",
            "  (20798, 1070)\t0.4638903157542853\n",
            "  (20798, 690)\t0.2827933658592677\n",
            "  (20799, 24985)\t0.6713314187498636\n",
            "  (20799, 13241)\t0.4138037375613909\n",
            "  (20799, 5979)\t0.345590335823275\n",
            "  (20799, 725)\t0.5085743925573473\n"
          ]
        }
      ]
    },
    {
      "cell_type": "markdown",
      "source": [
        "Now spliting data into training and testing where 30 percent data is used for testing and 70 percent for traaining"
      ],
      "metadata": {
        "id": "6xonDvXfOeaK"
      }
    },
    {
      "cell_type": "code",
      "source": [
        "content_train, content_test, label_train, label_test = train_test_split(content, label, test_size=0.3, stratify=label, random_state=3)"
      ],
      "metadata": {
        "id": "EimYMK-XOk52"
      },
      "execution_count": 64,
      "outputs": []
    },
    {
      "cell_type": "markdown",
      "source": [
        "Training the Model Using logistic Regession"
      ],
      "metadata": {
        "id": "cJDefFZSPyHl"
      }
    },
    {
      "cell_type": "code",
      "source": [
        "model = LogisticRegression()"
      ],
      "metadata": {
        "id": "kbc23c8-P4H7"
      },
      "execution_count": 65,
      "outputs": []
    },
    {
      "cell_type": "code",
      "source": [
        "model.fit(content_train, label_train)"
      ],
      "metadata": {
        "colab": {
          "base_uri": "https://localhost:8080/",
          "height": 75
        },
        "id": "Y4IdP-e2QUaT",
        "outputId": "29f89f4d-c559-4ac4-9722-a7361d4586b3"
      },
      "execution_count": 66,
      "outputs": [
        {
          "output_type": "execute_result",
          "data": {
            "text/plain": [
              "LogisticRegression()"
            ],
            "text/html": [
              "<style>#sk-container-id-1 {color: black;background-color: white;}#sk-container-id-1 pre{padding: 0;}#sk-container-id-1 div.sk-toggleable {background-color: white;}#sk-container-id-1 label.sk-toggleable__label {cursor: pointer;display: block;width: 100%;margin-bottom: 0;padding: 0.3em;box-sizing: border-box;text-align: center;}#sk-container-id-1 label.sk-toggleable__label-arrow:before {content: \"▸\";float: left;margin-right: 0.25em;color: #696969;}#sk-container-id-1 label.sk-toggleable__label-arrow:hover:before {color: black;}#sk-container-id-1 div.sk-estimator:hover label.sk-toggleable__label-arrow:before {color: black;}#sk-container-id-1 div.sk-toggleable__content {max-height: 0;max-width: 0;overflow: hidden;text-align: left;background-color: #f0f8ff;}#sk-container-id-1 div.sk-toggleable__content pre {margin: 0.2em;color: black;border-radius: 0.25em;background-color: #f0f8ff;}#sk-container-id-1 input.sk-toggleable__control:checked~div.sk-toggleable__content {max-height: 200px;max-width: 100%;overflow: auto;}#sk-container-id-1 input.sk-toggleable__control:checked~label.sk-toggleable__label-arrow:before {content: \"▾\";}#sk-container-id-1 div.sk-estimator input.sk-toggleable__control:checked~label.sk-toggleable__label {background-color: #d4ebff;}#sk-container-id-1 div.sk-label input.sk-toggleable__control:checked~label.sk-toggleable__label {background-color: #d4ebff;}#sk-container-id-1 input.sk-hidden--visually {border: 0;clip: rect(1px 1px 1px 1px);clip: rect(1px, 1px, 1px, 1px);height: 1px;margin: -1px;overflow: hidden;padding: 0;position: absolute;width: 1px;}#sk-container-id-1 div.sk-estimator {font-family: monospace;background-color: #f0f8ff;border: 1px dotted black;border-radius: 0.25em;box-sizing: border-box;margin-bottom: 0.5em;}#sk-container-id-1 div.sk-estimator:hover {background-color: #d4ebff;}#sk-container-id-1 div.sk-parallel-item::after {content: \"\";width: 100%;border-bottom: 1px solid gray;flex-grow: 1;}#sk-container-id-1 div.sk-label:hover label.sk-toggleable__label {background-color: #d4ebff;}#sk-container-id-1 div.sk-serial::before {content: \"\";position: absolute;border-left: 1px solid gray;box-sizing: border-box;top: 0;bottom: 0;left: 50%;z-index: 0;}#sk-container-id-1 div.sk-serial {display: flex;flex-direction: column;align-items: center;background-color: white;padding-right: 0.2em;padding-left: 0.2em;position: relative;}#sk-container-id-1 div.sk-item {position: relative;z-index: 1;}#sk-container-id-1 div.sk-parallel {display: flex;align-items: stretch;justify-content: center;background-color: white;position: relative;}#sk-container-id-1 div.sk-item::before, #sk-container-id-1 div.sk-parallel-item::before {content: \"\";position: absolute;border-left: 1px solid gray;box-sizing: border-box;top: 0;bottom: 0;left: 50%;z-index: -1;}#sk-container-id-1 div.sk-parallel-item {display: flex;flex-direction: column;z-index: 1;position: relative;background-color: white;}#sk-container-id-1 div.sk-parallel-item:first-child::after {align-self: flex-end;width: 50%;}#sk-container-id-1 div.sk-parallel-item:last-child::after {align-self: flex-start;width: 50%;}#sk-container-id-1 div.sk-parallel-item:only-child::after {width: 0;}#sk-container-id-1 div.sk-dashed-wrapped {border: 1px dashed gray;margin: 0 0.4em 0.5em 0.4em;box-sizing: border-box;padding-bottom: 0.4em;background-color: white;}#sk-container-id-1 div.sk-label label {font-family: monospace;font-weight: bold;display: inline-block;line-height: 1.2em;}#sk-container-id-1 div.sk-label-container {text-align: center;}#sk-container-id-1 div.sk-container {/* jupyter's `normalize.less` sets `[hidden] { display: none; }` but bootstrap.min.css set `[hidden] { display: none !important; }` so we also need the `!important` here to be able to override the default hidden behavior on the sphinx rendered scikit-learn.org. See: https://github.com/scikit-learn/scikit-learn/issues/21755 */display: inline-block !important;position: relative;}#sk-container-id-1 div.sk-text-repr-fallback {display: none;}</style><div id=\"sk-container-id-1\" class=\"sk-top-container\"><div class=\"sk-text-repr-fallback\"><pre>LogisticRegression()</pre><b>In a Jupyter environment, please rerun this cell to show the HTML representation or trust the notebook. <br />On GitHub, the HTML representation is unable to render, please try loading this page with nbviewer.org.</b></div><div class=\"sk-container\" hidden><div class=\"sk-item\"><div class=\"sk-estimator sk-toggleable\"><input class=\"sk-toggleable__control sk-hidden--visually\" id=\"sk-estimator-id-1\" type=\"checkbox\" checked><label for=\"sk-estimator-id-1\" class=\"sk-toggleable__label sk-toggleable__label-arrow\">LogisticRegression</label><div class=\"sk-toggleable__content\"><pre>LogisticRegression()</pre></div></div></div></div></div>"
            ]
          },
          "metadata": {},
          "execution_count": 66
        }
      ]
    },
    {
      "cell_type": "code",
      "source": [
        "#Checking Accuacy of our model\n",
        "content_train_prediction = model.predict(content_train)\n",
        "training_data_accuracy = accuracy_score(content_train_prediction, label_train)"
      ],
      "metadata": {
        "id": "CYGNCLNORLi6"
      },
      "execution_count": 67,
      "outputs": []
    },
    {
      "cell_type": "code",
      "source": [
        "print('The training data accuracy score is found to be : ', training_data_accuracy)"
      ],
      "metadata": {
        "colab": {
          "base_uri": "https://localhost:8080/"
        },
        "id": "tQYLB97bRoRM",
        "outputId": "b280f413-0111-4b13-e976-0306e1edf27c"
      },
      "execution_count": 68,
      "outputs": [
        {
          "output_type": "stream",
          "name": "stdout",
          "text": [
            "The training data accuracy score is found to be :  0.9699175824175824\n"
          ]
        }
      ]
    },
    {
      "cell_type": "code",
      "source": [
        "predicted_labels = model.predict(content_test)\n",
        "accuracy = accuracy_score(predicted_labels, label_test)"
      ],
      "metadata": {
        "id": "9ehqm4kZSCAW"
      },
      "execution_count": 69,
      "outputs": []
    },
    {
      "cell_type": "code",
      "source": [
        "print('The testing data accuracy score is found to be : ', accuracy)"
      ],
      "metadata": {
        "colab": {
          "base_uri": "https://localhost:8080/"
        },
        "id": "0FAJeLvTShK5",
        "outputId": "5758dbf1-21b7-48e3-f3e2-5d2966c85084"
      },
      "execution_count": 70,
      "outputs": [
        {
          "output_type": "stream",
          "name": "stdout",
          "text": [
            "The testing data accuracy score is found to be :  0.9514423076923076\n"
          ]
        }
      ]
    },
    {
      "cell_type": "markdown",
      "source": [
        "Now we can make program to predict the news weather it is fake or real using our model where the news article is entered by the user and stored in the variable new_data_point"
      ],
      "metadata": {
        "id": "P9uW_bgKS7HB"
      }
    },
    {
      "cell_type": "code",
      "source": [
        "new_data_point = content_test[3]\n",
        "\n",
        "prediction = model.predict([new_data_point])[0]\n",
        "\n",
        "if prediction == 0:\n",
        "    print('The news is most likely is Real')\n",
        "else:\n",
        "    print('The news is most likely Fake')"
      ],
      "metadata": {
        "id": "76oSG5SeS8b7"
      },
      "execution_count": null,
      "outputs": []
    }
  ]
}